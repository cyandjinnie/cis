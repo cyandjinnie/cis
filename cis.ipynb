{
 "cells": [
  {
   "cell_type": "code",
   "execution_count": 1,
   "metadata": {},
   "outputs": [],
   "source": [
    "import sys\n",
    "sys.path.append(\"/Library/Frameworks/Python.framework/Versions/3.7/lib/python3.7/site-packages\")"
   ]
  },
  {
   "cell_type": "code",
   "execution_count": 2,
   "metadata": {},
   "outputs": [],
   "source": [
    "import matplotlib.pyplot as plt\n",
    "import numpy as np\n",
    "import pandas as pd\n",
    "\n",
    "import matplotlib.dates as mdates\n",
    "import datetime as dt"
   ]
  },
  {
   "cell_type": "code",
   "execution_count": 8,
   "metadata": {},
   "outputs": [
    {
     "data": {
      "text/html": [
       "<div>\n",
       "<style scoped>\n",
       "    .dataframe tbody tr th:only-of-type {\n",
       "        vertical-align: middle;\n",
       "    }\n",
       "\n",
       "    .dataframe tbody tr th {\n",
       "        vertical-align: top;\n",
       "    }\n",
       "\n",
       "    .dataframe thead th {\n",
       "        text-align: right;\n",
       "    }\n",
       "</style>\n",
       "<table border=\"1\" class=\"dataframe\">\n",
       "  <thead>\n",
       "    <tr style=\"text-align: right;\">\n",
       "      <th></th>\n",
       "      <th>Country</th>\n",
       "      <th>Date</th>\n",
       "      <th>SuspectedCases</th>\n",
       "      <th>ProbableCases</th>\n",
       "      <th>ConfirmedCases</th>\n",
       "      <th>AllCases</th>\n",
       "      <th>SuspectedDeaths</th>\n",
       "      <th>ProbableDeaths</th>\n",
       "      <th>ConfirmedDeaths</th>\n",
       "      <th>AllDeaths</th>\n",
       "      <th>PartOfTheWorld</th>\n",
       "    </tr>\n",
       "  </thead>\n",
       "  <tbody>\n",
       "    <tr>\n",
       "      <th>0</th>\n",
       "      <td>Guinea</td>\n",
       "      <td>2014-08-29</td>\n",
       "      <td>25.0</td>\n",
       "      <td>141.0</td>\n",
       "      <td>482.0</td>\n",
       "      <td>648.0</td>\n",
       "      <td>2.0</td>\n",
       "      <td>141.0</td>\n",
       "      <td>287.0</td>\n",
       "      <td>430.0</td>\n",
       "      <td>Africa</td>\n",
       "    </tr>\n",
       "    <tr>\n",
       "      <th>1</th>\n",
       "      <td>Nigeria</td>\n",
       "      <td>2014-08-29</td>\n",
       "      <td>3.0</td>\n",
       "      <td>1.0</td>\n",
       "      <td>15.0</td>\n",
       "      <td>19.0</td>\n",
       "      <td>0.0</td>\n",
       "      <td>1.0</td>\n",
       "      <td>6.0</td>\n",
       "      <td>7.0</td>\n",
       "      <td>Africa</td>\n",
       "    </tr>\n",
       "    <tr>\n",
       "      <th>2</th>\n",
       "      <td>Sierra Leone</td>\n",
       "      <td>2014-08-29</td>\n",
       "      <td>54.0</td>\n",
       "      <td>37.0</td>\n",
       "      <td>935.0</td>\n",
       "      <td>1026.0</td>\n",
       "      <td>8.0</td>\n",
       "      <td>34.0</td>\n",
       "      <td>380.0</td>\n",
       "      <td>422.0</td>\n",
       "      <td>Africa</td>\n",
       "    </tr>\n",
       "    <tr>\n",
       "      <th>3</th>\n",
       "      <td>Liberia</td>\n",
       "      <td>2014-08-29</td>\n",
       "      <td>382.0</td>\n",
       "      <td>674.0</td>\n",
       "      <td>322.0</td>\n",
       "      <td>1378.0</td>\n",
       "      <td>168.0</td>\n",
       "      <td>301.0</td>\n",
       "      <td>225.0</td>\n",
       "      <td>694.0</td>\n",
       "      <td>Africa</td>\n",
       "    </tr>\n",
       "    <tr>\n",
       "      <th>4</th>\n",
       "      <td>Sierra Leone</td>\n",
       "      <td>2014-09-05</td>\n",
       "      <td>78.0</td>\n",
       "      <td>37.0</td>\n",
       "      <td>1146.0</td>\n",
       "      <td>1261.0</td>\n",
       "      <td>11.0</td>\n",
       "      <td>37.0</td>\n",
       "      <td>443.0</td>\n",
       "      <td>491.0</td>\n",
       "      <td>Africa</td>\n",
       "    </tr>\n",
       "  </tbody>\n",
       "</table>\n",
       "</div>"
      ],
      "text/plain": [
       "        Country        Date  SuspectedCases  ProbableCases  ConfirmedCases  \\\n",
       "0        Guinea  2014-08-29            25.0          141.0           482.0   \n",
       "1       Nigeria  2014-08-29             3.0            1.0            15.0   \n",
       "2  Sierra Leone  2014-08-29            54.0           37.0           935.0   \n",
       "3       Liberia  2014-08-29           382.0          674.0           322.0   \n",
       "4  Sierra Leone  2014-09-05            78.0           37.0          1146.0   \n",
       "\n",
       "   AllCases  SuspectedDeaths  ProbableDeaths  ConfirmedDeaths  AllDeaths  \\\n",
       "0     648.0              2.0           141.0            287.0      430.0   \n",
       "1      19.0              0.0             1.0              6.0        7.0   \n",
       "2    1026.0              8.0            34.0            380.0      422.0   \n",
       "3    1378.0            168.0           301.0            225.0      694.0   \n",
       "4    1261.0             11.0            37.0            443.0      491.0   \n",
       "\n",
       "  PartOfTheWorld  \n",
       "0         Africa  \n",
       "1         Africa  \n",
       "2         Africa  \n",
       "3         Africa  \n",
       "4         Africa  "
      ]
     },
     "execution_count": 8,
     "metadata": {},
     "output_type": "execute_result"
    }
   ],
   "source": [
    "columns = ['Country', 'Date', 'SuspectedCases', 'ProbableCases', 'ConfirmedCases',\\\n",
    "           'AllCases', 'SuspectedDeaths', 'ProbableDeaths', 'ConfirmedDeaths', 'AllDeaths']\n",
    "df = pd.read_csv(\"data/ebola_2014_2016_clean.csv\", header=0, names=columns)\n",
    "\n",
    "def PartOfTheWorld(country):\n",
    "    \"\"\"Эта функция отображает страну в часть света, где она находится. Будет удобно использовать при отсеивании стран с плохой статистикой\"\"\"\n",
    "    \n",
    "    if country == 'United States of America':\n",
    "        return 'New World'\n",
    "    elif country == 'Spain' or country == 'United Kingdom' or country == 'Spain' or country == 'Italy':\n",
    "        return 'Europe'\n",
    "    else:\n",
    "        return 'Africa'\n",
    "    \n",
    "# Добавим колонку для удобства доступа\n",
    "df['PartOfTheWorld'] = df['Country'].apply(PartOfTheWorld)\n",
    "df.head()"
   ]
  },
  {
   "cell_type": "markdown",
   "metadata": {},
   "source": [
    "Посмотрим на все страны с которыми имеем дело:"
   ]
  },
  {
   "cell_type": "code",
   "execution_count": 4,
   "metadata": {},
   "outputs": [
    {
     "data": {
      "text/plain": [
       "array(['Guinea', 'Nigeria', 'Sierra Leone', 'Liberia', 'Senegal',\n",
       "       'United States of America', 'Spain', 'Mali', 'United Kingdom',\n",
       "       'Italy'], dtype=object)"
      ]
     },
     "execution_count": 4,
     "metadata": {},
     "output_type": "execute_result"
    }
   ],
   "source": [
    "df['Country'].unique()"
   ]
  },
  {
   "cell_type": "code",
   "execution_count": 5,
   "metadata": {},
   "outputs": [],
   "source": [
    "african_countries = df.loc[df['PartOfTheWorld'] == 'Africa', 'Country'].unique()\n",
    "european_countries = df.loc[df['PartOfTheWorld'] == 'Europe', 'Country'].unique()\n",
    "american_countries = df.loc[df['PartOfTheWorld'] == 'New World', 'Country'].unique()"
   ]
  },
  {
   "cell_type": "code",
   "execution_count": 9,
   "metadata": {},
   "outputs": [
    {
     "data": {
      "text/plain": [
       "Index(['2014-08-29', '2014-08-30', '2014-08-31', '2014-09-01', '2014-09-02',\n",
       "       '2014-09-03', '2014-09-04', '2014-09-05'],\n",
       "      dtype='object')"
      ]
     },
     "execution_count": 9,
     "metadata": {},
     "output_type": "execute_result"
    }
   ],
   "source": [
    "start_date = df.loc[df['PartOfTheWorld'] == 'Africa', 'Date'].min()\n",
    "end_date = df.loc[df['PartOfTheWorld'] == 'Africa', 'Date'].max()\n",
    "\n",
    "date_range = pd.date_range(start_date, end_date).strftime('%Y-%m-%d')\n",
    "date_range"
   ]
  },
  {
   "cell_type": "code",
   "execution_count": 18,
   "metadata": {},
   "outputs": [
    {
     "data": {
      "image/png": "[encoded data removed]",
      "text/plain": [
       "<Figure size 720x432 with 1 Axes>"
      ]
     },
     "metadata": {
      "needs_background": "light"
     },
     "output_type": "display_data"
    }
   ],
   "source": [
    "fig = plt.figure(figsize=(10, 6))\n",
    "\n",
    "for state in african_countries:\n",
    "    state_data = df.loc[df['Country'] == state].groupby(['Date']).sum()\n",
    "    plt.plot_date(state_data.index, state_data['AllDeaths'], label=state)\n",
    "\n",
    "plt.tight_layout()\n",
    "plt.xticks(rotation=90)\n",
    "plt.legend()\n",
    "plt.show()"
   ]
  },
  {
   "cell_type": "markdown",
   "metadata": {},
   "source": [
    "Примерно поняли какие страны лучше пока оставим в покое. США и Европа заведомо имеют слабую статистику. Работаем пока со следующими:"
   ]
  },
  {
   "cell_type": "code",
   "execution_count": 14,
   "metadata": {},
   "outputs": [],
   "source": [
    "desired_states = ['Sierra Leone', 'Liberia', 'Guinea']"
   ]
  },
  {
   "cell_type": "markdown",
   "metadata": {},
   "source": [
    "Опустим хвост датасета, потому как оцениваем худший случай"
   ]
  },
  {
   "cell_type": "markdown",
   "metadata": {},
   "source": [
    "Дальнейшие действия: \n",
    "0. Понять, почему там в данных количество смертей убывает ?????\n",
    "1. Убрать хвост датасета, чтобы не смущать регрессор\n",
    "\n",
    "2. Попробовать разные модели: взять логарифм от числа смертей и построить линейную регрессию, интерполяцию полиномом\n",
    "\n",
    "3. Построить графики взаимосвязи количества случаев заражений и количества смертей, посчитать для каждой из \"хороших\" стран коэффициент\n",
    "\n",
    "4. Предсказать коэффициент для страны с \"плохой\" статистикой, построить графики"
   ]
  },
  {
   "cell_type": "code",
   "execution_count": 19,
   "metadata": {},
   "outputs": [],
   "source": [
    "def predict_case_death_coefficient(deaths, cases, date_range):\n",
    "    # Не успел :С\n",
    "    pass\n",
    "\n",
    "def predict_cases(deaths, date_range):\n",
    "    # Не успел :С\n",
    "    pass"
   ]
  },
  {
   "cell_type": "code",
   "execution_count": null,
   "metadata": {},
   "outputs": [],
   "source": []
  }
 ],
 "metadata": {
  "kernelspec": {
   "display_name": "Python 3",
   "language": "python",
   "name": "python3"
  },
  "language_info": {
   "codemirror_mode": {
    "name": "ipython",
    "version": 3
   },
   "file_extension": ".py",
   "mimetype": "text/x-python",
   "name": "python",
   "nbconvert_exporter": "python",
   "pygments_lexer": "ipython3",
   "version": "3.7.4"
  }
 },
 "nbformat": 4,
 "nbformat_minor": 2
}
